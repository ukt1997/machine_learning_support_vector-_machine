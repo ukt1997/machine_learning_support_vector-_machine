{
 "cells": [
  {
   "cell_type": "markdown",
   "metadata": {},
   "source": [
    "## this includes all libr. needed ##"
   ]
  },
  {
   "cell_type": "code",
   "execution_count": 21,
   "metadata": {
    "collapsed": true
   },
   "outputs": [],
   "source": [
    "import numpy as np\n",
    "from matplotlib import pyplot as plt\n",
    "%matplotlib inline"
   ]
  },
  {
   "cell_type": "markdown",
   "metadata": {},
   "source": [
    "### here input and output array are defined you may replace them ###\n",
    "### input array X contains n+1 columns and m rows ###\n",
    "### where n is number of features of data and last column is for bias i.e equal to -1 in below taken X ###\n",
    "### m is the no of data available to learn ###\n",
    "### you may replace X by your input data but format must be same ###\n",
    "### Y contains only m columns and one rowwhere each columns holda the label for each m data values ###\n",
    "### 1 in Y represents +ve class and -1 in Y represent -ve class ###\n",
    "### you must Change your X and Y ###"
   ]
  },
  {
   "cell_type": "code",
   "execution_count": 22,
   "metadata": {
    "collapsed": true
   },
   "outputs": [],
   "source": [
    "X=np.array([[-2,4,-1],\n",
    "          [4,1,-1],\n",
    "          [1,6,-1],\n",
    "          [2,4,-1],\n",
    "          [6,2,-1]])\n",
    "Y=np.array([-1,-1,1,1,1])\n"
   ]
  },
  {
   "cell_type": "code",
   "execution_count": 23,
   "metadata": {},
   "outputs": [
    {
     "name": "stdout",
     "output_type": "stream",
     "text": [
      "(5, 3)\n",
      "(5,)\n"
     ]
    }
   ],
   "source": [
    "print(X.shape)\n",
    "print(Y.shape)"
   ]
  },
  {
   "cell_type": "markdown",
   "metadata": {},
   "source": [
    "### below function will plot X and a guessed seprator ###\n",
    "### this function is based on 2 features data### "
   ]
  },
  {
   "cell_type": "code",
   "execution_count": 24,
   "metadata": {
    "scrolled": true
   },
   "outputs": [
    {
     "data": {
      "text/plain": [
       "[<matplotlib.lines.Line2D at 0x1b4a7ec59e8>]"
      ]
     },
     "execution_count": 24,
     "metadata": {},
     "output_type": "execute_result"
    },
    {
     "data": {
      "image/png": "[encoded data removed]",
      "text/plain": [
       "<matplotlib.figure.Figure at 0x1b4a7ec5630>"
      ]
     },
     "metadata": {},
     "output_type": "display_data"
    }
   ],
   "source": [
    "for i in range(0,X.shape[0]):\n",
    "    if(Y[i]<0):\n",
    "        plt.scatter(X[i][0],X[i][1],s=120,marker='_',linewidth=2)\n",
    "    else:\n",
    "        plt.scatter(X[i][0],X[i][1],s=120,marker='+',linewidth=2)\n",
    "plt.plot([-2,6],[6,0.5])"
   ]
  },
  {
   "cell_type": "markdown",
   "metadata": {},
   "source": [
    "### Hinge loss Function###\n",
    "### this is the loss function to be used in this code ###\n",
    "### this blockwill not be used as loss it only shows howthe loss function works ###\n",
    "### feel free to remove it if you want ###"
   ]
  },
  {
   "cell_type": "code",
   "execution_count": 25,
   "metadata": {},
   "outputs": [],
   "source": [
    "loss=0\n",
    "W=np.random.randn(X.shape[1])\n",
    "Y_out=np.dot(X,W)\n",
    "for i in range (0,Y.shape[0]):\n",
    "    if(Y_out[i]*Y[i]<1):\n",
    "        loss+=(1-Y_out[i]*Y[i])"
   ]
  },
  {
   "cell_type": "markdown",
   "metadata": {},
   "source": [
    "### main svd function implementing hinge loss function and schokestic gradient desent for linearly seprable function ###"
   ]
  },
  {
   "cell_type": "code",
   "execution_count": 28,
   "metadata": {},
   "outputs": [],
   "source": [
    "def svm_sgd_plt(X,Y):\n",
    "    W=np.zeros(X.shape[1])\n",
    "    learning_rate=1\n",
    "    iterations=1000\n",
    "    errors=[]\n",
    "    for iters in range(1,iterations):\n",
    "        error=0\n",
    "        for i,x in enumerate(X):\n",
    "            if(Y[i]*(np.dot(X[i],W))<1):\n",
    "                W=W+learning_rate*(X[i]*Y[i]+(-2*(1/iters)*W))\n",
    "                error=1\n",
    "            else:\n",
    "                W=W+learning_rate*(-2*(1/iters)*W)\n",
    "        errors.append(error)\n",
    "        \n",
    "    plt.plot(errors,'|')\n",
    "    plt.ylim(0.5,1.5)\n",
    "    plt.axes().set_yticklabels([])\n",
    "    plt.xlabel('iters')\n",
    "    plt.ylabel('misclassified')\n",
    "    plt.show()\n",
    "    #print(errors)\n",
    "    return W"
   ]
  },
  {
   "cell_type": "markdown",
   "metadata": {},
   "source": [
    "### final weight will be stored in array W1 for testing ###\n",
    "### it also plots the error frequency based on no of itersations###"
   ]
  },
  {
   "cell_type": "code",
   "execution_count": 29,
   "metadata": {},
   "outputs": [
    {
     "name": "stderr",
     "output_type": "stream",
     "text": [
      "C:\\Users\\Ujjwal Kumar\\Anaconda3\\lib\\site-packages\\matplotlib\\cbook\\deprecation.py:106: MatplotlibDeprecationWarning: Adding an axes using the same arguments as a previous axes currently reuses the earlier instance.  In a future version, a new instance will always be created and returned.  Meanwhile, this warning can be suppressed, and the future behavior ensured, by passing a unique label to each axes instance.\n",
      "  warnings.warn(message, mplDeprecation, stacklevel=1)\n"
     ]
    },
    {
     "data": {
      "image/png": "[encoded data removed]",
      "text/plain": [
       "<matplotlib.figure.Figure at 0x1b4a7f58518>"
      ]
     },
     "metadata": {},
     "output_type": "display_data"
    }
   ],
   "source": [
    "W1=svm_sgd_plt(X,Y)"
   ]
  }
 ],
 "metadata": {
  "kernelspec": {
   "display_name": "Python 3",
   "language": "python",
   "name": "python3"
  },
  "language_info": {
   "codemirror_mode": {
    "name": "ipython",
    "version": 3
   },
   "file_extension": ".py",
   "mimetype": "text/x-python",
   "name": "python",
   "nbconvert_exporter": "python",
   "pygments_lexer": "ipython3",
   "version": "3.6.3"
  }
 },
 "nbformat": 4,
 "nbformat_minor": 2
}
